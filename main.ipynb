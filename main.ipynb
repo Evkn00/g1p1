{
 "cells": [
  {
   "cell_type": "code",
   "execution_count": 29,
   "metadata": {},
   "outputs": [],
   "source": [
    "#import dependencies\n",
    "import pandas as pd\n",
    "import numpy as np\n",
    "import matplotlib.pyplot as plt\n",
    "import warnings\n"
   ]
  },
  {
   "cell_type": "code",
   "execution_count": 30,
   "metadata": {},
   "outputs": [],
   "source": [
    "#set csv urls\n",
    "df_21_22 = pd.read_csv('https://data.sa.gov.au/data/dataset/860126f7-eeb5-4fbc-be44-069aa0467d11/resource/97524896-b976-4ed1-a26b-70bdc8248832/download/2021-22-data-sa-crime-q1-q4.csv', index_col=0)\n",
    "df_20_21 = pd.read_csv('https://data.sa.gov.au/data/dataset/860126f7-eeb5-4fbc-be44-069aa0467d11/resource/e0b8d120-65e3-44e6-9e2e-aeb7aec59114/download/2020-21_data_sa_crime.csv', index_col=0)\n",
    "df_19_20 = pd.read_csv('https://data.sa.gov.au/data/dataset/860126f7-eeb5-4fbc-be44-069aa0467d11/resource/590083cd-be2f-4a6c-871e-0ec4c717717b/download/2019-20-fullyr-data_sa_crime.csv', index_col=0)\n",
    "df_18_19 = pd.read_csv('https://data.sa.gov.au/data/dataset/860126f7-eeb5-4fbc-be44-069aa0467d11/resource/809b11dd-9944-4406-a0c4-af6a5b332177/download/2018-19-data_sa_crime.csv', index_col=0)\n",
    "df_17_18 = pd.read_csv('https://data.sa.gov.au/data/dataset/860126f7-eeb5-4fbc-be44-069aa0467d11/resource/bf604730-9ec8-44dd-88a3-f024b387e0e4/download/2017-18-data_sa_crime.csv', index_col=0)\n",
    "df_16_17 = pd.read_csv('https://data.sa.gov.au/data/dataset/860126f7-eeb5-4fbc-be44-069aa0467d11/resource/9eb63b08-c300-49c5-b6ef-ecb0945008b5/download/2016-17-data_sa_crime.csv', index_col=0)\n",
    "df_15_16 = pd.read_csv('https://data.sa.gov.au/data/dataset/860126f7-eeb5-4fbc-be44-069aa0467d11/resource/19beeceb-a870-4424-b533-43c774bcb03e/download/2015-16-data_sa_crime.csv', index_col=0)\n",
    "df_14_15 = pd.read_csv('https://data.sa.gov.au/data/dataset/860126f7-eeb5-4fbc-be44-069aa0467d11/resource/49ff5a8b-6e68-4f53-861a-085055999fcf/download/2014-15-data_sa_crime.csv', index_col=0)\n",
    "df_13_14 = pd.read_csv('https://data.sa.gov.au/data/dataset/860126f7-eeb5-4fbc-be44-069aa0467d11/resource/e4a20c4d-7462-4ce2-95c9-b288f5634f62/download/2013-14-data_sa_crime.csv', index_col=0)\n",
    "\n"
   ]
  },
  {
   "cell_type": "code",
   "execution_count": 31,
   "metadata": {},
   "outputs": [],
   "source": [
    "#df names in a list\n",
    "list_dfs = [df_13_14,\n",
    "            df_14_15, \n",
    "            df_15_16, \n",
    "            df_16_17, \n",
    "            df_17_18, \n",
    "            df_18_19, \n",
    "            df_19_20, \n",
    "            df_20_21, \n",
    "            df_21_22]\n",
    "#merge all dataframes\n",
    "df_all_data = pd.concat(list_dfs, ignore_index=False)\n",
    "\n",
    "\n",
    "#add year, month columns using ymd\n",
    "\n",
    "#check if lat long are needed.\n"
   ]
  },
  {
   "cell_type": "code",
   "execution_count": 32,
   "metadata": {},
   "outputs": [
    {
     "name": "stdout",
     "output_type": "stream",
     "text": [
      "['OFFENCES AGAINST PROPERTY' 'OFFENCES AGAINST THE PERSON' nan]\n",
      "['SERIOUS CRIMINAL TRESPASS' 'PROPERTY DAMAGE AND ENVIRONMENTAL'\n",
      " 'THEFT AND RELATED OFFENCES' 'ACTS INTENDED TO CAUSE INJURY'\n",
      " 'FRAUD DECEPTION AND RELATED OFFENCES' 'ROBBERY AND RELATED OFFENCES'\n",
      " 'OTHER OFFENCES AGAINST THE PERSON' 'SEXUAL ASSAULT AND RELATED OFFENCES'\n",
      " 'HOMICIDE AND RELATED OFFENCES' nan]\n",
      "['SCT - Non Residence' 'Graffiti'\n",
      " 'Other property damage and environmental' 'Other theft'\n",
      " 'Theft from motor vehicle' 'Theft from shop' 'Common Assault'\n",
      " 'Obtain benefit by deception' 'Receive or handle proceeds of crime'\n",
      " 'Serious Assault not resulting in injury' 'Theft/Illegal Use of MV'\n",
      " 'Blackmail and extortion' 'SCT - Residence'\n",
      " 'Other unlawful entry with intent' 'Threatening behaviour'\n",
      " 'Property damage by fire or explosion' 'Assault police'\n",
      " 'Abduction, harassment and other offences'\n",
      " 'Other acts intended to cause injury'\n",
      " 'Serious Assault resulting in injury' 'Aggravated sexual assault'\n",
      " 'Non-aggravated sexual assault' 'Non-assaultive sexual offences'\n",
      " 'Dangerous or negligent acts' 'Aggravated robbery'\n",
      " 'Other fraud, deception and related offences' 'Non-aggravated robbery'\n",
      " 'Other homicide and related offences' 'Murder' nan]\n"
     ]
    }
   ],
   "source": [
    "#check unique values\n",
    "df_all_data.dtypes\n",
    "print(df_all_data['Offence Level 1 Description'].unique())\n",
    "print(df_all_data['Offence Level 2 Description'].unique())\n",
    "print(df_all_data['Offence Level 3 Description'].unique())"
   ]
  },
  {
   "cell_type": "code",
   "execution_count": 33,
   "metadata": {},
   "outputs": [
    {
     "data": {
      "text/html": [
       "<div>\n",
       "<style scoped>\n",
       "    .dataframe tbody tr th:only-of-type {\n",
       "        vertical-align: middle;\n",
       "    }\n",
       "\n",
       "    .dataframe tbody tr th {\n",
       "        vertical-align: top;\n",
       "    }\n",
       "\n",
       "    .dataframe thead th {\n",
       "        text-align: right;\n",
       "    }\n",
       "</style>\n",
       "<table border=\"1\" class=\"dataframe\">\n",
       "  <thead>\n",
       "    <tr style=\"text-align: right;\">\n",
       "      <th></th>\n",
       "      <th>Suburb - Incident</th>\n",
       "      <th>Postcode - Incident</th>\n",
       "      <th>Offence Level 1 Description</th>\n",
       "      <th>Offence Level 2 Description</th>\n",
       "      <th>Offence Level 3 Description</th>\n",
       "      <th>Offence count</th>\n",
       "    </tr>\n",
       "    <tr>\n",
       "      <th>Reported Date</th>\n",
       "      <th></th>\n",
       "      <th></th>\n",
       "      <th></th>\n",
       "      <th></th>\n",
       "      <th></th>\n",
       "      <th></th>\n",
       "    </tr>\n",
       "  </thead>\n",
       "  <tbody>\n",
       "    <tr>\n",
       "      <th>1/07/2013</th>\n",
       "      <td>ADELAIDE</td>\n",
       "      <td>5000</td>\n",
       "      <td>OFFENCES AGAINST THE PERSON</td>\n",
       "      <td>ACTS INTENDED TO CAUSE INJURY</td>\n",
       "      <td>Common Assault</td>\n",
       "      <td>2.0</td>\n",
       "    </tr>\n",
       "    <tr>\n",
       "      <th>1/07/2013</th>\n",
       "      <td>ALDINGA BEACH</td>\n",
       "      <td>5173</td>\n",
       "      <td>OFFENCES AGAINST THE PERSON</td>\n",
       "      <td>ACTS INTENDED TO CAUSE INJURY</td>\n",
       "      <td>Common Assault</td>\n",
       "      <td>1.0</td>\n",
       "    </tr>\n",
       "    <tr>\n",
       "      <th>1/07/2013</th>\n",
       "      <td>ALDINGA BEACH</td>\n",
       "      <td>5173</td>\n",
       "      <td>OFFENCES AGAINST THE PERSON</td>\n",
       "      <td>ACTS INTENDED TO CAUSE INJURY</td>\n",
       "      <td>Serious Assault not resulting in injury</td>\n",
       "      <td>1.0</td>\n",
       "    </tr>\n",
       "    <tr>\n",
       "      <th>1/07/2013</th>\n",
       "      <td>BEDFORD PARK</td>\n",
       "      <td>5042</td>\n",
       "      <td>OFFENCES AGAINST THE PERSON</td>\n",
       "      <td>ROBBERY AND RELATED OFFENCES</td>\n",
       "      <td>Blackmail and extortion</td>\n",
       "      <td>1.0</td>\n",
       "    </tr>\n",
       "    <tr>\n",
       "      <th>1/07/2013</th>\n",
       "      <td>BURTON</td>\n",
       "      <td>5110</td>\n",
       "      <td>OFFENCES AGAINST THE PERSON</td>\n",
       "      <td>OTHER OFFENCES AGAINST THE PERSON</td>\n",
       "      <td>Threatening behaviour</td>\n",
       "      <td>1.0</td>\n",
       "    </tr>\n",
       "  </tbody>\n",
       "</table>\n",
       "</div>"
      ],
      "text/plain": [
       "              Suburb - Incident Postcode - Incident  \\\n",
       "Reported Date                                         \n",
       "1/07/2013              ADELAIDE                5000   \n",
       "1/07/2013         ALDINGA BEACH                5173   \n",
       "1/07/2013         ALDINGA BEACH                5173   \n",
       "1/07/2013          BEDFORD PARK                5042   \n",
       "1/07/2013                BURTON                5110   \n",
       "\n",
       "               Offence Level 1 Description        Offence Level 2 Description  \\\n",
       "Reported Date                                                                   \n",
       "1/07/2013      OFFENCES AGAINST THE PERSON      ACTS INTENDED TO CAUSE INJURY   \n",
       "1/07/2013      OFFENCES AGAINST THE PERSON      ACTS INTENDED TO CAUSE INJURY   \n",
       "1/07/2013      OFFENCES AGAINST THE PERSON      ACTS INTENDED TO CAUSE INJURY   \n",
       "1/07/2013      OFFENCES AGAINST THE PERSON       ROBBERY AND RELATED OFFENCES   \n",
       "1/07/2013      OFFENCES AGAINST THE PERSON  OTHER OFFENCES AGAINST THE PERSON   \n",
       "\n",
       "                           Offence Level 3 Description  Offence count  \n",
       "Reported Date                                                          \n",
       "1/07/2013                               Common Assault            2.0  \n",
       "1/07/2013                               Common Assault            1.0  \n",
       "1/07/2013      Serious Assault not resulting in injury            1.0  \n",
       "1/07/2013                      Blackmail and extortion            1.0  \n",
       "1/07/2013                        Threatening behaviour            1.0  "
      ]
     },
     "execution_count": 33,
     "metadata": {},
     "output_type": "execute_result"
    }
   ],
   "source": [
    "#filter df to offences against the person\n",
    "df_person_offences = df_all_data[df_all_data['Offence Level 1 Description'] == 'OFFENCES AGAINST THE PERSON']\n",
    "df_person_offences.head()"
   ]
  },
  {
   "cell_type": "code",
   "execution_count": 34,
   "metadata": {},
   "outputs": [
    {
     "name": "stderr",
     "output_type": "stream",
     "text": [
      "C:\\Users\\evoke\\AppData\\Local\\Temp\\ipykernel_17944\\2385519817.py:2: SettingWithCopyWarning: \n",
      "A value is trying to be set on a copy of a slice from a DataFrame.\n",
      "Try using .loc[row_indexer,col_indexer] = value instead\n",
      "\n",
      "See the caveats in the documentation: https://pandas.pydata.org/pandas-docs/stable/user_guide/indexing.html#returning-a-view-versus-a-copy\n",
      "  df_person_offences['Offence count'] = df_person_offences['Offence count'].astype(int)\n"
     ]
    },
    {
     "data": {
      "text/plain": [
       "Suburb - Incident              object\n",
       "Postcode - Incident            object\n",
       "Offence Level 1 Description    object\n",
       "Offence Level 2 Description    object\n",
       "Offence Level 3 Description    object\n",
       "Offence count                   int32\n",
       "dtype: object"
      ]
     },
     "execution_count": 34,
     "metadata": {},
     "output_type": "execute_result"
    }
   ],
   "source": [
    "# Fix dtypes\n",
    "df_person_offences['Offence count'] = df_person_offences['Offence count'].astype(int)\n",
    "df_person_offences.dtypes"
   ]
  }
 ],
 "metadata": {
  "kernelspec": {
   "display_name": "AUDABC",
   "language": "python",
   "name": "python3"
  },
  "language_info": {
   "codemirror_mode": {
    "name": "ipython",
    "version": 3
   },
   "file_extension": ".py",
   "mimetype": "text/x-python",
   "name": "python",
   "nbconvert_exporter": "python",
   "pygments_lexer": "ipython3",
   "version": "3.10.10"
  },
  "orig_nbformat": 4
 },
 "nbformat": 4,
 "nbformat_minor": 2
}
